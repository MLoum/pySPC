{
 "cells": [
  {
   "cell_type": "code",
   "execution_count": 6,
   "metadata": {
    "collapsed": true
   },
   "outputs": [],
   "source": [
    "import numpy as np\n",
    "import matplotlib.pyplot as plt\n",
    "%matplotlib inline"
   ]
  },
  {
   "cell_type": "code",
   "execution_count": 4,
   "metadata": {},
   "outputs": [
    {
     "name": "stdout",
     "output_type": "stream",
     "text": [
      "C:\\TRAVAIL\\recherche\\code\\pySPC\n"
     ]
    }
   ],
   "source": [
    "import os\n",
    "import sys\n",
    "\n",
    "# print(os.path.abspath('.'))\n",
    "# print(os.path.abspath('../core'))\n",
    "\n",
    "py_SPC_path = os.path.normpath(r\"C:\\TRAVAIL\\recherche\\code\\pySPC\")\n",
    "print(py_SPC_path)\n",
    "sys.path.insert(0, py_SPC_path)\n",
    "\n",
    "from core import Experiment"
   ]
  },
  {
   "cell_type": "markdown",
   "metadata": {},
   "source": [
    "## Test des fonctions de filtres"
   ]
  },
  {
   "cell_type": "code",
   "execution_count": 7,
   "metadata": {},
   "outputs": [
    {
     "name": "stdout",
     "output_type": "stream",
     "text": [
      "C:\\Users\\MatthieuL\\Documents\\2018_06_20 Tps de Vie Nanotube 1231\\Nanotube 1231 x40 BP405LP405Dicrho405 fibre sur laser nanotube Random pmax.spc\n"
     ]
    },
    {
     "ename": "ValueError",
     "evalue": "The truth value of an array with more than one element is ambiguous. Use a.any() or a.all()",
     "traceback": [
      "\u001b[1;31m---------------------------------------------------------------------------\u001b[0m",
      "\u001b[1;31mValueError\u001b[0m                                Traceback (most recent call last)",
      "\u001b[1;32m<ipython-input-7-3dccf0bda264>\u001b[0m in \u001b[0;36m<module>\u001b[1;34m()\u001b[0m\n\u001b[0;32m     14\u001b[0m \u001b[0midx_t1\u001b[0m \u001b[1;33m=\u001b[0m \u001b[0mexp\u001b[0m\u001b[1;33m.\u001b[0m\u001b[0mconvert_seconds_in_ticks\u001b[0m\u001b[1;33m(\u001b[0m\u001b[1;36m2\u001b[0m\u001b[1;33m)\u001b[0m\u001b[1;33m\u001b[0m\u001b[0m\n\u001b[0;32m     15\u001b[0m \u001b[0midx_t2\u001b[0m \u001b[1;33m=\u001b[0m \u001b[0mexp\u001b[0m\u001b[1;33m.\u001b[0m\u001b[0mconvert_seconds_in_ticks\u001b[0m\u001b[1;33m(\u001b[0m\u001b[1;36m4\u001b[0m\u001b[1;33m)\u001b[0m\u001b[1;33m\u001b[0m\u001b[0m\n\u001b[1;32m---> 16\u001b[1;33m \u001b[0mexp\u001b[0m\u001b[1;33m.\u001b[0m\u001b[0mdata\u001b[0m\u001b[1;33m.\u001b[0m\u001b[0mfilter_time_selection\u001b[0m\u001b[1;33m(\u001b[0m\u001b[1;36m0\u001b[0m\u001b[1;33m,\u001b[0m \u001b[0midx_t1\u001b[0m\u001b[1;33m,\u001b[0m \u001b[0midx_t2\u001b[0m\u001b[1;33m,\u001b[0m \u001b[0mis_keep\u001b[0m\u001b[1;33m=\u001b[0m\u001b[1;32mTrue\u001b[0m\u001b[1;33m,\u001b[0m \u001b[0mreplacement_mode\u001b[0m\u001b[1;33m=\u001b[0m\u001b[1;34m\"nothing\"\u001b[0m\u001b[1;33m)\u001b[0m\u001b[1;33m\u001b[0m\u001b[0m\n\u001b[0m\u001b[0;32m     17\u001b[0m \u001b[1;33m\u001b[0m\u001b[0m\n\u001b[0;32m     18\u001b[0m \u001b[0mchronogram\u001b[0m \u001b[1;33m=\u001b[0m \u001b[0mexp\u001b[0m\u001b[1;33m.\u001b[0m\u001b[0mchronogram\u001b[0m\u001b[1;33m(\u001b[0m\u001b[1;33m)\u001b[0m\u001b[1;33m\u001b[0m\u001b[0m\n",
      "\u001b[1;32mC:\\TRAVAIL\\recherche\\code\\pySPC\\core\\Data.py\u001b[0m in \u001b[0;36mfilter_time_selection\u001b[1;34m(self, num_channel, t1_tick, t2_tick, is_keep, replacement_mode)\u001b[0m\n\u001b[0;32m    264\u001b[0m \u001b[1;33m\u001b[0m\u001b[0m\n\u001b[0;32m    265\u001b[0m         \u001b[1;32mif\u001b[0m \u001b[0mis_keep\u001b[0m\u001b[1;33m:\u001b[0m\u001b[1;33m\u001b[0m\u001b[0m\n\u001b[1;32m--> 266\u001b[1;33m             \u001b[0midx_photons_to_be_filtered\u001b[0m \u001b[1;33m=\u001b[0m \u001b[0mnp\u001b[0m\u001b[1;33m.\u001b[0m\u001b[0mwhere\u001b[0m\u001b[1;33m(\u001b[0m\u001b[0mt1_tick\u001b[0m \u001b[1;33m>\u001b[0m \u001b[0mtimeStamps\u001b[0m \u001b[1;33m>\u001b[0m \u001b[0mt2_tick\u001b[0m\u001b[1;33m)\u001b[0m\u001b[1;33m\u001b[0m\u001b[0m\n\u001b[0m\u001b[0;32m    267\u001b[0m         \u001b[1;32melse\u001b[0m\u001b[1;33m:\u001b[0m\u001b[1;33m\u001b[0m\u001b[0m\n\u001b[0;32m    268\u001b[0m             \u001b[0midx_photons_to_be_filtered\u001b[0m \u001b[1;33m=\u001b[0m \u001b[0mnp\u001b[0m\u001b[1;33m.\u001b[0m\u001b[0mwhere\u001b[0m\u001b[1;33m(\u001b[0m\u001b[0mt1_tick\u001b[0m \u001b[1;33m<\u001b[0m \u001b[0mtimeStamps\u001b[0m \u001b[1;33m<\u001b[0m \u001b[0mt2_tick\u001b[0m\u001b[1;33m)\u001b[0m\u001b[1;33m\u001b[0m\u001b[0m\n",
      "\u001b[1;31mValueError\u001b[0m: The truth value of an array with more than one element is ambiguous. Use a.any() or a.all()"
     ],
     "output_type": "error"
    },
    {
     "data": {
      "image/png": "[encoded data removed]",
      "text/plain": [
       "<matplotlib.figure.Figure at 0x1a62add1cf8>"
      ]
     },
     "metadata": {},
     "output_type": "display_data"
    }
   ],
   "source": [
    "1# Relative path\n",
    "datapath = r\"C:\\Users\\MatthieuL\\Documents\\2018_06_20 Tps de Vie Nanotube 1231\"\n",
    "filepath =  r\"Nanotube 1231 x40 BP405LP405Dicrho405 fibre sur laser nanotube Random pmax.spc\"\n",
    "\n",
    "filepath = os.path.normpath(os.path.join(datapath, filepath))\n",
    "print(filepath)\n",
    "\n",
    "# Create the main (model) object and fill it with the spc file\n",
    "exp = Experiment.Experiment(filepath)\n",
    "\n",
    "chronogram = exp.chronogram()\n",
    "plt.plot(chronogram.xAxis, chronogram.data)\n",
    "\n",
    "idx_t1 = exp.convert_seconds_in_ticks(2)\n",
    "idx_t2 = exp.convert_seconds_in_ticks(4)\n",
    "exp.data.filter_time_selection(0, idx_t1, idx_t2, is_keep=True, replacement_mode=\"nothing\")\n",
    "\n",
    "chronogram = exp.chronogram()\n",
    "plt.plot(chronogram.xAxis, chronogram.data)"
   ]
  },
  {
   "cell_type": "code",
   "execution_count": null,
   "metadata": {},
   "outputs": [],
   "source": []
  }
 ],
 "metadata": {
  "kernelspec": {
   "display_name": "Python 2",
   "language": "python",
   "name": "python2"
  },
  "language_info": {
   "codemirror_mode": {
    "name": "ipython",
    "version": 2
   },
   "file_extension": ".py",
   "mimetype": "text/x-python",
   "name": "python",
   "nbconvert_exporter": "python",
   "pygments_lexer": "ipython2",
   "version": "2.7.6"
  }
 },
 "nbformat": 4,
 "nbformat_minor": 0
}
