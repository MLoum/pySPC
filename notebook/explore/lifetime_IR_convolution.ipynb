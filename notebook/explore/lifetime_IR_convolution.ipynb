{
  "cells": [
    {
      "cell_type": "markdown",
      "metadata": {
        "collapsed": true,
        "pycharm": {}
      },
      "source": [
        "# Test et mis au point sur la prise en compte de l\u0027IR en convolution"
      ]
    },
    {
      "cell_type": "code",
      "execution_count": 2,
      "metadata": {
        "pycharm": {}
      },
      "outputs": [
        {
          "name": "stdout",
          "output_type": "stream",
          "text": [
            "Populating the interactive namespace from numpy and matplotlib\nC:\\TRAVAIL\\recherche\\code\\pySPC\n"
          ]
        }
      ],
      "source": [
        "import numpy as np\n",
        "import matplotlib.pyplot as plt\n",
        "%matplotlib inline\n",
        "%pylab inline\n",
        "pylab.rcParams[\u0027figure.figsize\u0027] \u003d (10, 6)\n",
        "\n",
        "import os\n",
        "import sys\n",
        "\n",
        "py_SPC_path \u003d os.path.normpath(r\"C:\\TRAVAIL\\recherche\\code\\pySPC\")\n",
        "print(py_SPC_path)\n",
        "sys.path.insert(0, py_SPC_path)\n",
        "\n",
        "from core import Experiment"
      ]
    },
    {
      "cell_type": "code",
      "execution_count": null,
      "metadata": {
        "pycharm": {}
      },
      "outputs": [],
      "source": "# Relative path\ndatapath \u003d r\"C:\\Users\\MatthieuL\\Documents\\data\\2018_10_23_TpsDeVieOlia_AIE\\OF1440\"\nfilepath_IR \u003d  r\"IR_relfexion_coverslip.spc\"\nfilepath_Fluo \u003d  r\"Test_perylene_etOh_gly.spc\"\n\nfilepath_IR \u003d os.path.normpath(os.path.join(datapath, filepath_IR)) \nepx_IR \u003d Experiment.Experiment(filepath_IR)\n# Calculate the microtime histogramm and fill the corresponding result object\nepx_IR.micro_time_life_time()\n\n"
    },
    {
      "cell_type": "code",
      "execution_count": null,
      "outputs": [],
      "source": "\n",
      "metadata": {
        "pycharm": {
          "metadata": false,
          "name": "#%%\n"
        }
      }
    }
  ],
  "metadata": {
    "kernelspec": {
      "display_name": "Python 2",
      "language": "python",
      "name": "python2"
    },
    "language_info": {
      "codemirror_mode": {
        "name": "ipython",
        "version": 2
      },
      "file_extension": ".py",
      "mimetype": "text/x-python",
      "name": "python",
      "nbconvert_exporter": "python",
      "pygments_lexer": "ipython2",
      "version": "2.7.6"
    }
  },
  "nbformat": 4,
  "nbformat_minor": 0
}