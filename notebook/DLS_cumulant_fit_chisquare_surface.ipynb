{
 "cells": [
  {
   "cell_type": "markdown",
   "metadata": {
    "collapsed": true
   },
   "source": [
    "# Test on cumulant Fit with DLS"
   ]
  },
  {
   "cell_type": "code",
   "execution_count": 1,
   "metadata": {},
   "outputs": [],
   "source": [
    "import numpy as np\n",
    "import matplotlib.pyplot as plt\n",
    "%matplotlib inline"
   ]
  },
  {
   "cell_type": "code",
   "execution_count": 2,
   "metadata": {},
   "outputs": [
    {
     "name": "stdout",
     "output_type": "stream",
     "text": [
      "C:\\TRAVAIL\\recherche\\code\\pySPC\n"
     ]
    }
   ],
   "source": [
    "import os\n",
    "import glob\n",
    "import re\n",
    "import sys\n",
    "\n",
    "# print(os.path.abspath('.'))\n",
    "# print(os.path.abspath('../core'))\n",
    "\n",
    "py_SPC_path = os.path.normpath(r\"C:\\TRAVAIL\\recherche\\code\\pySPC\")\n",
    "print(py_SPC_path)\n",
    "sys.path.insert(0, py_SPC_path)\n",
    "\n",
    "from core import Experiment"
   ]
  },
  {
   "cell_type": "code",
   "execution_count": 3,
   "metadata": {},
   "outputs": [],
   "source": [
    "# Put directory of the spc files :\n",
    "os.chdir(r'C:\\Users\\MatthieuL\\Documents\\data\\2018_05_24 deuxieme Calibration DLS\\Arg')"
   ]
  },
  {
   "cell_type": "code",
   "execution_count": 7,
   "metadata": {},
   "outputs": [
    {
     "name": "stdout",
     "output_type": "stream",
     "text": [
      "Calculating correlation\n"
     ]
    }
   ],
   "source": [
    "file_path = r'C:\\Users\\MatthieuL\\Documents\\data\\2018_05_24 deuxieme Calibration DLS\\Arg\\arg_90d_PolarRec.spc'\n",
    "file_path = os.path.normpath(file_path)\n",
    "exp = Experiment.Experiment(file_path)\n",
    "\n",
    "t1_tick = exp.data.channels[0].start_tick\n",
    "t2_tick = exp.data.channels[0].end_tick\n",
    "\n",
    "max_correlTime_ms = 100\n",
    "start_time_mu_s = 8\n",
    "precision = 10\n",
    "\n",
    "print(\"Calculating correlation\")\n",
    "exp.DLS(0, 0, t1_tick, t2_tick, max_correlTime_ms, start_time_mu_s, precision)\n",
    "\n",
    "def cumulant_2nd_order(t, B, beta, tau, mu2):\n",
    "    return B + beta*np.exp(-t/tau)*((1 + mu2/2*t**2/tau**2)**2)\n",
    "\n",
    "mu2_min, mu2_max = 0, 0.5\n",
    "tau_min, tau_max = 50, 200\n",
    "\n",
    "nb_of_grid_point_per_axis = 10\n",
    "\n",
    "x = np.linspace(-mu2_min, mu2_max , nb_of_grid_point_per_axis)  \n",
    "y = np.linspace(-tau_min, tau_max , nb_of_grid_point_per_axis)   \n",
    "\n",
    "XX, YY = np.meshgrid(x , y) #Return coordinate matrices from coordinate vectors.\n",
    "\n",
    "\n",
    "\n"
   ]
  },
  {
   "cell_type": "code",
   "execution_count": null,
   "metadata": {},
   "outputs": [],
   "source": []
  }
 ],
 "metadata": {
  "kernelspec": {
   "display_name": "Python 2",
   "language": "python",
   "name": "python2"
  },
  "language_info": {
   "codemirror_mode": {
    "name": "ipython",
    "version": 2
   },
   "file_extension": ".py",
   "mimetype": "text/x-python",
   "name": "python",
   "nbconvert_exporter": "python",
   "pygments_lexer": "ipython2",
   "version": "2.7.6"
  }
 },
 "nbformat": 4,
 "nbformat_minor": 0
}
