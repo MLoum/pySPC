{
 "cells": [
  {
   "cell_type": "code",
   "execution_count": 38,
   "metadata": {
    "collapsed": true
   },
   "outputs": [],
   "source": [
    "import numpy as np\n",
    "import matplotlib.pyplot as plt\n",
    "import lmfit\n",
    "%matplotlib inline"
   ]
  },
  {
   "cell_type": "code",
   "execution_count": 39,
   "metadata": {},
   "outputs": [
    {
     "name": "stdout",
     "output_type": "stream",
     "text": [
      "C:\\TRAVAIL\\recherche\\code\\pySPC\n"
     ]
    }
   ],
   "source": [
    "import os\n",
    "import glob\n",
    "import re\n",
    "import sys\n",
    "\n",
    "# print(os.path.abspath('.'))\n",
    "# print(os.path.abspath('../core'))\n",
    "\n",
    "py_SPC_path = os.path.normpath(r\"C:\\TRAVAIL\\recherche\\code\\pySPC\")\n",
    "print(py_SPC_path)\n",
    "sys.path.insert(0, py_SPC_path)\n",
    "\n",
    "from core import Experiment"
   ]
  },
  {
   "cell_type": "code",
   "execution_count": 52,
   "metadata": {},
   "outputs": [],
   "source": [
    "# Put directory of the spc files :\n",
    "# os.chdir(r'C:\\Users\\MatthieuL\\Documents\\data\\2018_05_24 deuxieme Calibration DLS\\Or')\n",
    "os.chdir(r'C:\\Users\\MatthieuL\\Documents\\data\\2018_05_24 deuxieme Calibration DLS\\Arg')\n",
    "# os.chdir(r'C:\\Users\\MatthieuL\\Documents\\data\\2018_05_24 deuxieme Calibration DLS\\Fluo_3xdilue')"
   ]
  },
  {
   "cell_type": "code",
   "execution_count": 54,
   "metadata": {},
   "outputs": [],
   "source": [
    "# Correlation parameters\n",
    "max_correlTime_ms = 100\n",
    "start_time_mu_s = 8\n",
    "precision = 10\n",
    "\n",
    "angle_list = []\n",
    "CPS_list = []\n",
    "tau_list = []\n",
    "beta_list = []\n",
    "coorelation_curves = []\n",
    "mu2_list = []\n",
    "time_axis = None\n",
    "\n",
    "B_ini = 1\n",
    "Beta_ini = 0.8\n",
    "tau_ini = 350\n",
    "mu_2_ini=0\n",
    "mu_3_ini=0\n",
    "mu_4_ini=0"
   ]
  },
  {
   "cell_type": "code",
   "execution_count": 55,
   "metadata": {},
   "outputs": [
    {
     "name": "stdout",
     "output_type": "stream",
     "text": [
      "arg_100d_PolarRec.spc\nCPS : 22618.926082\nCalculating correlation\n"
     ]
    },
    {
     "name": "stdout",
     "output_type": "stream",
     "text": [
      "Fitting\n\nList of fitted parameters for Model(cumulant): \n\nName       Value        Min        Max\nB              1       -inf        inf\nbeta      0.7467       -inf        inf\nmu2      0.02146          0        inf\nmu3    0.0001985          0        inf\nmu4      0.02144          0        inf\ntau        125.4       -inf        inf\narg_105d_PolarRec.spc\nCPS : 23466.242733\nCalculating correlation\n"
     ]
    },
    {
     "name": "stdout",
     "output_type": "stream",
     "text": [
      "Fitting\n\nList of fitted parameters for Model(cumulant): \n\nName       Value        Min        Max\nB          1.001       -inf        inf\nbeta      0.7588       -inf        inf\nmu2      0.04259          0        inf\nmu3    4.549e-08          0        inf\nmu4      0.01573          0        inf\ntau        116.3       -inf        inf\narg_110d_PolarRec.spc\nCPS : 23536.717013\nCalculating correlation\n"
     ]
    },
    {
     "name": "stdout",
     "output_type": "stream",
     "text": [
      "Fitting\n\nList of fitted parameters for Model(cumulant): \n\nName       Value        Min        Max\nB          1.001       -inf        inf\nbeta      0.7388       -inf        inf\nmu2      0.02009          0        inf\nmu3    0.0007968          0        inf\nmu4      0.01119          0        inf\ntau        114.2       -inf        inf\narg_115d_PolarRec.spc\nCPS : 24302.406217\nCalculating correlation\n"
     ]
    },
    {
     "name": "stdout",
     "output_type": "stream",
     "text": [
      "Fitting\n\nList of fitted parameters for Model(cumulant): \n\nName       Value        Min        Max\nB          1.001       -inf        inf\nbeta      0.7509       -inf        inf\nmu2      0.03162          0        inf\nmu3     0.000448          0        inf\nmu4      0.01273          0        inf\ntau        110.6       -inf        inf\narg_120d_PolarRec.spc\nCPS : 25435.554224\nCalculating correlation\n"
     ]
    },
    {
     "name": "stdout",
     "output_type": "stream",
     "text": [
      "Fitting\n\nList of fitted parameters for Model(cumulant): \n\nName       Value        Min        Max\nB          1.001       -inf        inf\nbeta      0.7462       -inf        inf\nmu2    0.0001492          0        inf\nmu3    2.374e-05          0        inf\nmu4      0.02095          0        inf\ntau        106.3       -inf        inf\narg_125d_PolarRec.spc\nCPS : 27108.178774\nCalculating correlation\n"
     ]
    },
    {
     "name": "stdout",
     "output_type": "stream",
     "text": [
      "Fitting\n\nList of fitted parameters for Model(cumulant): \n\nName       Value        Min        Max\nB          1.001       -inf        inf\nbeta      0.7501       -inf        inf\nmu2      0.03594          0        inf\nmu3    0.0001086          0        inf\nmu4     0.005513          0        inf\ntau        99.23       -inf        inf\narg_130d_PolarRec.spc\nCPS : 29169.354015\nCalculating correlation\n"
     ]
    },
    {
     "name": "stdout",
     "output_type": "stream",
     "text": [
      "Fitting\n\nList of fitted parameters for Model(cumulant): \n\nName       Value        Min        Max\nB          1.001       -inf        inf\nbeta      0.7464       -inf        inf\nmu2     4.38e-10          0        inf\nmu3    0.0001122          0        inf\nmu4      0.02971          0        inf\ntau        104.6       -inf        inf\narg_135d_PolarRec.spc\nCPS : 34190.203026\nCalculating correlation\n"
     ]
    },
    {
     "name": "stdout",
     "output_type": "stream",
     "text": [
      "Fitting\n\nList of fitted parameters for Model(cumulant): \n\nName       Value        Min        Max\nB          1.001       -inf        inf\nbeta      0.7251       -inf        inf\nmu2     0.008619          0        inf\nmu3    0.0004498          0        inf\nmu4      0.02927          0        inf\ntau        102.7       -inf        inf\narg_40d_PolarRec.spc\nCPS : 29187.336258\nCalculating correlation\n"
     ]
    },
    {
     "name": "stdout",
     "output_type": "stream",
     "text": [
      "Fitting\n\nList of fitted parameters for Model(cumulant): \n\nName       Value        Min        Max\nB          1.001       -inf        inf\nbeta      0.7745       -inf        inf\nmu2       0.4245          0        inf\nmu3       0.2461          0        inf\nmu4       0.1071          0        inf\ntau        277.4       -inf        inf\narg_45d_PolarRec.spc\nCPS : 36502.306852\nCalculating correlation\n"
     ]
    },
    {
     "name": "stdout",
     "output_type": "stream",
     "text": [
      "Fitting\n\nList of fitted parameters for Model(cumulant): \n\nName       Value        Min        Max\nB          1.002       -inf        inf\nbeta      0.7358       -inf        inf\nmu2       0.4184          0        inf\nmu3       0.2551          0        inf\nmu4       0.1211          0        inf\ntau        342.5       -inf        inf\narg_50d_PolarRec.spc\nCPS : 33967.427852\nCalculating correlation\n"
     ]
    },
    {
     "name": "stdout",
     "output_type": "stream",
     "text": [
      "Fitting\n\nList of fitted parameters for Model(cumulant): \n\nName       Value        Min        Max\nB          1.002       -inf        inf\nbeta        0.72       -inf        inf\nmu2       0.3216          0        inf\nmu3       0.1932          0        inf\nmu4      0.08742          0        inf\ntau        287.5       -inf        inf\narg_55d_PolarRec.spc\nCPS : 25770.151772\nCalculating correlation\n"
     ]
    },
    {
     "name": "stdout",
     "output_type": "stream",
     "text": [
      "Fitting\n\nList of fitted parameters for Model(cumulant): \n\nName       Value        Min        Max\nB          1.002       -inf        inf\nbeta      0.7098       -inf        inf\nmu2    2.137e-09          0        inf\nmu3    1.543e-07          0        inf\nmu4      0.03625          0        inf\ntau        282.1       -inf        inf\narg_60d_PolarRec.spc\nCPS : 24242.879201\nCalculating correlation\n"
     ]
    },
    {
     "name": "stdout",
     "output_type": "stream",
     "text": [
      "Fitting\n\nList of fitted parameters for Model(cumulant): \n\nName       Value        Min        Max\nB          1.001       -inf        inf\nbeta      0.7232       -inf        inf\nmu2       0.1794          0        inf\nmu3      0.03315          0        inf\nmu4    1.712e-09          0        inf\ntau        208.3       -inf        inf\narg_65d_PolarRec.spc\nCPS : 23989.968749\nCalculating correlation\n"
     ]
    },
    {
     "name": "stdout",
     "output_type": "stream",
     "text": [
      "Fitting\n\nList of fitted parameters for Model(cumulant): \n\nName       Value        Min        Max\nB          1.002       -inf        inf\nbeta      0.7561       -inf        inf\nmu2    3.211e-11          0        inf\nmu3    3.046e-08          0        inf\nmu4      0.03603          0        inf\ntau        209.6       -inf        inf\narg_70d_PolarRec.spc\nCPS : 21697.245988\nCalculating correlation\n"
     ]
    },
    {
     "name": "stdout",
     "output_type": "stream",
     "text": [
      "Fitting\n\nList of fitted parameters for Model(cumulant): \n\nName       Value        Min        Max\nB          1.001       -inf        inf\nbeta      0.7417       -inf        inf\nmu2      0.07408          0        inf\nmu3    7.845e-06          0        inf\nmu4     0.006921          0        inf\ntau        183.3       -inf        inf\narg_75d_PolarRec.spc\nCPS : 21719.038605\nCalculating correlation\n"
     ]
    },
    {
     "name": "stdout",
     "output_type": "stream",
     "text": [
      "Fitting\n\nList of fitted parameters for Model(cumulant): \n\nName       Value        Min        Max\nB          1.001       -inf        inf\nbeta      0.7445       -inf        inf\nmu2      0.07267          0        inf\nmu3     0.001698          0        inf\nmu4    8.399e-06          0        inf\ntau        178.6       -inf        inf\narg_80d_PolarRec.spc\nCPS : 21863.969062\nCalculating correlation\n"
     ]
    },
    {
     "name": "stdout",
     "output_type": "stream",
     "text": [
      "Fitting\n\nList of fitted parameters for Model(cumulant): \n\nName       Value        Min        Max\nB              1       -inf        inf\nbeta      0.7535       -inf        inf\nmu2      0.05128          0        inf\nmu3    0.0001907          0        inf\nmu4    1.818e-06          0        inf\ntau          163       -inf        inf\narg_85d_PolarRec.spc\nCPS : 21528.150351\nCalculating correlation\n"
     ]
    },
    {
     "name": "stdout",
     "output_type": "stream",
     "text": [
      "Fitting\n\nList of fitted parameters for Model(cumulant): \n\nName       Value        Min        Max\nB          1.001       -inf        inf\nbeta      0.7589       -inf        inf\nmu2      0.08272          0        inf\nmu3      0.00167          0        inf\nmu4     0.002801          0        inf\ntau        138.6       -inf        inf\narg_90d_PolarRec.spc\nCPS : 21107.358370\nCalculating correlation\n"
     ]
    },
    {
     "name": "stdout",
     "output_type": "stream",
     "text": [
      "Fitting\n\nList of fitted parameters for Model(cumulant): \n\nName       Value        Min        Max\nB          1.001       -inf        inf\nbeta      0.7229       -inf        inf\nmu2      0.01356          0        inf\nmu3    1.811e-06          0        inf\nmu4      0.01981          0        inf\ntau        149.9       -inf        inf\narg_95d_PolarRec.spc\nCPS : 21901.517999\nCalculating correlation\n"
     ]
    },
    {
     "name": "stdout",
     "output_type": "stream",
     "text": [
      "Fitting\n\nList of fitted parameters for Model(cumulant): \n\nName       Value        Min        Max\nB              1       -inf        inf\nbeta      0.7253       -inf        inf\nmu2     0.009873          0        inf\nmu3    1.191e-05          0        inf\nmu4      0.01475          0        inf\ntau        133.6       -inf        inf\n"
     ]
    }
   ],
   "source": [
    "def cumulant(t, B, beta, tau, mu2, mu3, mu4):\n",
    "    return B + beta*np.exp(-t/tau)*((1 + mu2/2*t**2/tau**2 - mu3/6*t**3/tau**3 + mu4/24*t**4/tau**4)**2)\n",
    "\n",
    "model = lmfit.Model(cumulant, nan_policy=\"propagate\")\n",
    "params = model.make_params(B=1, beta=0.7, tau=500, mu2=0, mu3=0, mu4=0)\n",
    "# params['A0'].set(min=0.01, value=1)\n",
    "params['mu2'].set(min=0, value=1e-3)\n",
    "params['mu3'].set(min=0, value=1e-3)\n",
    "params['mu4'].set(min=0, value=1e-3)\n",
    "\n",
    "\n",
    "\n",
    "for spc_file in glob.glob(\"*.spc\"):\n",
    "    print(spc_file)\n",
    "    angle_list.append(int(re.findall(r'\\d+', spc_file)[0]))\n",
    "    exp = Experiment.Experiment()\n",
    "    exp.new_exp(\"file\", [spc_file])\n",
    "\n",
    "    CPS = exp.data.channels[0].CPS\n",
    "    CPS_list.append(CPS)\n",
    "\n",
    "    print(\"CPS : %f\" % CPS)\n",
    "\n",
    "    t1_tick = exp.data.channels[0].start_tick\n",
    "    t2_tick = exp.data.channels[0].end_tick\n",
    "    print(\"Calculating correlation\")\n",
    "    exp.DLS(0, 0, t1_tick, t2_tick, max_correlTime_ms, start_time_mu_s, precision)\n",
    "    \n",
    "    correlation_curve = exp.results.DLS_Measurements[0].data\n",
    "    \n",
    "    coorelation_curves.append(np.copy(exp.results.DLS_Measurements[0].data))\n",
    "    time_axis = np.copy(exp.results.DLS_Measurements[0].timeAxis)\n",
    "        \n",
    "    print(\"Fitting\")\n",
    "    # exp.results.DLS_Measurements[0].set_model(\"Cumulant\")\n",
    "    # exp.results.DLS_Measurements[0].guess(idx_start=0, idx_end=-1)\n",
    "    # exp.results.DLS_Measurements[0].set_params([B_ini, Beta_ini, tau_ini, mu_2_ini, mu_3_ini, mu_4_ini])\n",
    "    # \n",
    "    # fitResults = exp.results.DLS_Measurements[0].fit(idx_start=0, idx_end=-1)\n",
    "    # print(fitResults.best_values)\n",
    "    # tau_list.append(fitResults.best_values['tau'])\n",
    "    # beta_list.append(fitResults.best_values['beta'])\n",
    "    # mu2_list.append(fitResults.best_values['mu2'])\n",
    "    Gn = correlation_curve\n",
    "    taus = time_axis\n",
    "    \n",
    "    fit_res = model.fit(Gn, t=taus, params=params)\n",
    "    print('\\nList of fitted parameters for %s: \\n' % model.name)\n",
    "    fit_res.params.pretty_print(colwidth=10, columns=['value', 'min', 'max'])\n",
    "    tau_list.append(fit_res.best_values['tau'])\n",
    "    beta_list.append(fit_res.best_values['beta'])\n",
    "    mu2_list.append(fit_res.best_values['mu2'])    \n",
    "    \n",
    "    \n",
    "\n",
    "    # print(fitResults.fit_report())\n",
    "    # print(tau_list)\n",
    "\n",
    "f = open(\"result.txt\", \"w\")\n",
    "\n",
    "i = 0\n",
    "# print(angle_list)\n",
    "for angle in angle_list:\n",
    "    # print(angle)\n",
    "    f.write(\"%d %d %f %f %f\\n\" % (angle, CPS_list[i], tau_list[i], beta_list[i], mu2_list[i]))\n",
    "    i += 1\n",
    "    \n",
    "\n",
    "f.close()\n",
    "\n",
    "f = open(\"correation_curve.txt\", \"w\")\n",
    "\n",
    "i = 0\n",
    "j = 0\n",
    "\n",
    "for j in range(np.size(time_axis)):\n",
    "    # print(\"j = %d\" % j)\n",
    "    f.write(\"%f \" % (time_axis[j]))\n",
    "    i = 0\n",
    "    for angle in angle_list:\n",
    "        corelation_curve = coorelation_curves[i]\n",
    "        # print(coorelation_curves[i])\n",
    "        f.write(\"%f \" % (corelation_curve[j]))\n",
    "        i += 1\n",
    "    f.write(\"\\n\")\n",
    "\n",
    "f.close()\n",
    "\n",
    "\n"
   ]
  },
  {
   "cell_type": "code",
   "execution_count": null,
   "metadata": {},
   "outputs": [],
   "source": []
  }
 ],
 "metadata": {
  "kernelspec": {
   "display_name": "Python 2",
   "language": "python",
   "name": "python2"
  },
  "language_info": {
   "codemirror_mode": {
    "name": "ipython",
    "version": 2
   },
   "file_extension": ".py",
   "mimetype": "text/x-python",
   "name": "python",
   "nbconvert_exporter": "python",
   "pygments_lexer": "ipython2",
   "version": "2.7.6"
  }
 },
 "nbformat": 4,
 "nbformat_minor": 0
}
