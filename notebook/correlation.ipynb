{
 "cells": [
  {
   "cell_type": "markdown",
   "metadata": {
    "collapsed": true
   },
   "source": [
    "# Thought on Correlation algorithm"
   ]
  },
  {
   "cell_type": "code",
   "execution_count": null,
   "metadata": {},
   "outputs": [],
   "source": [
    "    def generatepoissonNoise(self, mean_rate_in_tick, t_start_click, t_end_click):\n",
    "        \"\"\"\n",
    "        time in click\n",
    "        \"\"\"\n",
    "        # http://preshing.com/20111007/how-to-generate-random-timings-for-a-poisson-process/\n",
    "        # ratePerClick = ratePerS / self.expParam.mAcrotime_clickEquivalentIn_second\n",
    "        # TODO name of ratePerClick\n",
    "        nb_of_tick_to_generate = int((t_end_click - t_start_click) * mean_rate_in_tick)\n",
    "        arrival_times = t_start_click + np.cumsum(\n",
    "            -(np.log(1.0 - np.random.random(nb_of_tick_to_generate)) / mean_rate_in_tick).astype(np.uint64))\n",
    "        last_sample = np.searchsorted(arrival_times, t_end_click)\n",
    "        return arrival_times[:last_sample]"
   ]
  }
 ],
 "metadata": {
  "kernelspec": {
   "display_name": "Python 2",
   "language": "python",
   "name": "python2"
  },
  "language_info": {
   "codemirror_mode": {
    "name": "ipython",
    "version": 2
   },
   "file_extension": ".py",
   "mimetype": "text/x-python",
   "name": "python",
   "nbconvert_exporter": "python",
   "pygments_lexer": "ipython2",
   "version": "2.7.6"
  }
 },
 "nbformat": 4,
 "nbformat_minor": 0
}
