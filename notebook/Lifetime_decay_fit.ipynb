{
 "metadata": {
  "name": "",
  "signature": "sha256:599a23414a1640b38e26473bc5a86206fe3b305f459d56c2b121111527f721d5"
 },
 "nbformat": 3,
 "nbformat_minor": 0,
 "worksheets": [
  {
   "cells": [
    {
     "cell_type": "markdown",
     "metadata": {},
     "source": [
      "# Lifetime decay fit\n",
      "\n",
      "**Author:** Antonino Ingargiola  -  **Date:** 07/20/2014"
     ]
    },
    {
     "cell_type": "markdown",
     "metadata": {},
     "source": [
      "##Abstract\n",
      "In this notebook we fit a [TCSPC](http://en.wikipedia.org/wiki/Ultrafast_laser_spectroscopy#Time-correlated_single_photon_counting) histogram with a model functions that includes an exponential decay, an instrument response function (IRF) and uncorrelated background. The IRF is considered fixed (i.e. measured) and is used to deconvolve the data. This kind of fit is commonly performed on fluorescence lifetime experimental curves.\n",
      "\n",
      "For illustrative purposes, the TCSPC data is contextually simulated by simply extracting random exponential waiting time, adding a random number from the IRF distribution and adding a fraction of uncorrelated events (background). These events are binned in order to obtain a realistic TCSPC histogram. This procedure assures a proper simulation of the Poisson statistics in each bin.\n",
      "\n",
      "The fitting procedure can use both a non-linear least square and a Maximum Likelihood minimization. In the latter case the log-likelihood function obtained from Poisson statistics is maximized.\n",
      "\n",
      "> **Note:** This notebook uses the fitting packages [lmfit](http://lmfit.github.io/lmfit-py/) that allows to easily set constrains on the parameters (i.e. fixed, bounded, etc ...). It also performs rigorous error analysis and allows to easily compare different minimization algorithms (other than least squares).\n"
     ]
    },
    {
     "cell_type": "markdown",
     "metadata": {},
     "source": [
      "# Library imports"
     ]
    },
    {
     "cell_type": "code",
     "collapsed": false,
     "input": [
      "%matplotlib inline"
     ],
     "language": "python",
     "metadata": {},
     "outputs": [],
     "prompt_number": 1
    },
    {
     "cell_type": "code",
     "collapsed": false,
     "input": [
      "import numpy as np\n",
      "import scipy\n",
      "import scipy.stats\n",
      "from scipy.optimize import minimize\n",
      "import matplotlib.pyplot as plt\n",
      "from matplotlib.pyplot import hist, plot\n",
      "\n",
      "import lmfit\n",
      "from lmfit import Parameters, report_fit"
     ],
     "language": "python",
     "metadata": {},
     "outputs": [],
     "prompt_number": 2
    },
    {
     "cell_type": "markdown",
     "metadata": {},
     "source": [
      "# Data simulation"
     ]
    },
    {
     "cell_type": "markdown",
     "metadata": {},
     "source": [
      "##TCSPC Parameters"
     ]
    },
    {
     "cell_type": "code",
     "collapsed": false,
     "input": [
      "time_step_s = (60e-9/4096)               # time step in seconds (S.I.)\n",
      "time_step_ns = time_step_s*1e9           # time step in nano-seconds\n",
      "time_nbins = 2048                        # number of time bins\n",
      "\n",
      "time_idx = np.arange(time_nbins)         # time axis in index units\n",
      "time_ns = time_idx*time_step_ns          # time axis in nano-seconds"
     ],
     "language": "python",
     "metadata": {},
     "outputs": [],
     "prompt_number": 3
    },
    {
     "cell_type": "markdown",
     "metadata": {},
     "source": [
      "##Model IRF"
     ]
    },
    {
     "cell_type": "markdown",
     "metadata": {},
     "source": [
      "Let define the [Exponentially modified Gaussian distribution](http://en.wikipedia.org/wiki/Exponentially_modified_Gaussian_distribution)\n",
      "representing the convolution of a gaussian and an exponential. This function is used to model the IRF.\n",
      "\n",
      "$$f(x;\\mu,\\sigma,\\lambda) = \\frac{\\lambda}{2} e^{\\frac{\\lambda}{2} (2 \\mu + \\lambda \\sigma^2 - 2 x)} \\operatorname{erfc} (\\frac{\\mu + \\lambda \\sigma^2 - x}{ \\sqrt{2} \\sigma})$$"
     ]
    },
    {
     "cell_type": "code",
     "collapsed": false,
     "input": [
      "def exgauss(x, mu, sig, tau):\n",
      "    lam = 1./tau\n",
      "    return 0.5*lam * np.exp(0.5*lam * (2*mu + lam*(sig**2) - 2*x)) *\\\n",
      "           scipy.special.erfc((mu + lam*(sig**2) - x)/(np.sqrt(2)*sig))"
     ],
     "language": "python",
     "metadata": {},
     "outputs": [],
     "prompt_number": 4
    },
    {
     "cell_type": "markdown",
     "metadata": {},
     "source": [
      "We are going to compute the IRF, using `exgauss` as a PDF. The following parameters have been fitted from an experimental IRF:\n",
      "\n",
      "$$\\sigma = 33\\,\\textrm{ps} \\qquad \\lambda = 100\\,\\textrm{ps}$$\n"
     ]
    },
    {
     "cell_type": "code",
     "collapsed": false,
     "input": [
      "irf_sig = 0.033\n",
      "irf_mu = 5*irf_sig\n",
      "irf_lam = 0.1\n",
      "x_irf = np.arange(0, (irf_lam*15 + irf_mu)/time_step_ns)\n",
      "p_irf = exgauss(x_irf, irf_mu/time_step_ns, irf_sig/time_step_ns,\n",
      "                irf_lam/time_step_ns)\n",
      "irf = scipy.stats.rv_discrete(name='irf', values=(x_irf, p_irf))\n",
      "x_irf.size"
     ],
     "language": "python",
     "metadata": {},
     "outputs": [
      {
       "metadata": {},
       "output_type": "pyout",
       "prompt_number": 5,
       "text": [
        "114"
       ]
      }
     ],
     "prompt_number": 5
    },
    {
     "cell_type": "code",
     "collapsed": false,
     "input": [
      "plot(x_irf, p_irf)\n",
      "plt.yscale('log')\n",
      "irf_mu/time_step_ns"
     ],
     "language": "python",
     "metadata": {},
     "outputs": [
      {
       "metadata": {},
       "output_type": "pyout",
       "prompt_number": 6,
       "text": [
        "11.264000000000001"
       ]
      },
      {
       "metadata": {},
       "output_type": "display_data",
       "png": "[encoded data removed]",
       "text": [
        "<matplotlib.figure.Figure at 0x145e9a58>"
       ]
      }
     ],
     "prompt_number": 6
    },
    {
     "cell_type": "code",
     "collapsed": false,
     "input": [
      "assert np.allclose(p_irf.sum(), 1)"
     ],
     "language": "python",
     "metadata": {},
     "outputs": [],
     "prompt_number": 7
    },
    {
     "cell_type": "markdown",
     "metadata": {},
     "source": [
      "Finally we need to draw random numbers from the IRF's PDF. To do so, we create a discrete random distribution with **scipy**:"
     ]
    },
    {
     "cell_type": "code",
     "collapsed": false,
     "input": [
      "irf = scipy.stats.rv_discrete(name='irf', values=(x_irf, p_irf))"
     ],
     "language": "python",
     "metadata": {},
     "outputs": [],
     "prompt_number": 8
    },
    {
     "cell_type": "code",
     "collapsed": false,
     "input": [
      "fig, ax = plt.subplots(1, 2, figsize=(12, 4))\n",
      "ax[0].plot(x_irf, irf.pmf(x_irf));\n",
      "ax[0].set_title('IRF PDF')\n",
      "ax[1].hist(irf.rvs(size=200), bins=x_irf, histtype='step')\n",
      "ax[1].set_title('Random samples from the IRF distribution');\n",
      "ax[0].set_yscale('log')\n",
      "#ax[1].set_yscale('log')"
     ],
     "language": "python",
     "metadata": {},
     "outputs": [
      {
       "metadata": {},
       "output_type": "display_data",
       "png": "[encoded data removed]",
       "text": [
        "<matplotlib.figure.Figure at 0x14b4c2e8>"
       ]
      }
     ],
     "prompt_number": 9
    },
    {
     "cell_type": "code",
     "collapsed": false,
     "input": [
      "assert (p_irf == irf.pmf(x_irf)).all()"
     ],
     "language": "python",
     "metadata": {},
     "outputs": [],
     "prompt_number": 10
    },
    {
     "cell_type": "markdown",
     "metadata": {},
     "source": [
      "##Generate the nanotimes"
     ]
    },
    {
     "cell_type": "code",
     "collapsed": false,
     "input": [
      "np.random.seed(2)"
     ],
     "language": "python",
     "metadata": {},
     "outputs": [],
     "prompt_number": 11
    },
    {
     "cell_type": "code",
     "collapsed": false,
     "input": [
      "num_samples = 5e5\n",
      "tau = 2e-9\n",
      "baseline_fraction = 0.03\n",
      "offset = 2e-9\n",
      "\n",
      "sample_decay = np.random.exponential(scale=tau/time_step_s,\n",
      "                                     size=num_samples) + offset/time_step_s\n",
      "sample_decay += irf.rvs(size=num_samples)\n",
      "sample_baseline = np.random.randint(low=0, high=time_nbins,\n",
      "                                    size=baseline_fraction*num_samples)\n",
      "sample_tot = np.hstack((sample_decay, sample_baseline))\n",
      "decay_hist, bins = np.histogram(sample_tot, bins=np.arange(time_nbins + 1))"
     ],
     "language": "python",
     "metadata": {},
     "outputs": [],
     "prompt_number": 12
    },
    {
     "cell_type": "code",
     "collapsed": false,
     "input": [
      "baseline_true = baseline_fraction*num_samples / time_nbins\n",
      "baseline_true"
     ],
     "language": "python",
     "metadata": {},
     "outputs": [
      {
       "metadata": {},
       "output_type": "pyout",
       "prompt_number": 13,
       "text": [
        "7.32421875"
       ]
      }
     ],
     "prompt_number": 13
    },
    {
     "cell_type": "code",
     "collapsed": false,
     "input": [
      "hist_sim_decay, _, _ = hist(sample_tot, bins=np.arange(time_nbins+1), histtype='step');\n",
      "plt.yscale('log')\n",
      "(hist_sim_decay > 0).all()"
     ],
     "language": "python",
     "metadata": {},
     "outputs": [
      {
       "metadata": {},
       "output_type": "pyout",
       "prompt_number": 14,
       "text": [
        "False"
       ]
      },
      {
       "metadata": {},
       "output_type": "display_data",
       "png": "[encoded data removed]",
       "text": [
        "<matplotlib.figure.Figure at 0x149d3748>"
       ]
      }
     ],
     "prompt_number": 14
    },
    {
     "cell_type": "markdown",
     "metadata": {},
     "source": [
      "# Model function\n",
      "\n",
      "We use a single exponential model convoluted with the model-IRF and with the addition of a **baseline**:"
     ]
    },
    {
     "cell_type": "code",
     "collapsed": false,
     "input": [
      "def model(x, tau, ampl, baseline, offset, irf_pdf=irf.pmf(x_irf)):\n",
      "    \"\"\"\n",
      "    Model function used to fit the data.\n",
      "    \"\"\"\n",
      "    y = np.zeros(x.size)\n",
      "    pos_range = (x - offset) >= 0\n",
      "    y[pos_range] = ampl*np.exp(-(x[pos_range] - offset)/tau)\n",
      "    z = np.convolve(y, irf_pdf, mode='same')\n",
      "    z += baseline\n",
      "    return z\n",
      "\n",
      "def residuals(params, x, y, weights):\n",
      "    \"\"\"\n",
      "    Returns the array of residuals for the current parameters.\n",
      "    \"\"\"\n",
      "    tau = params['tau'].value\n",
      "    baseline = params['baseline'].value\n",
      "    offset = params['offset'].value\n",
      "    ampl = params['ampl'].value\n",
      "    return (y - model(x, tau, ampl, baseline, offset))*weights\n",
      "\n",
      "def plot_fit(time, ydata, params, yscale='log', zoom_origin=False):\n",
      "    \"\"\"\n",
      "    Function to plot data and model function.\n",
      "    \"\"\"\n",
      "    plot(time, ydata, marker='.')\n",
      "    plot(time, model(time, **{k: v.value for k, v in params.items()}),\n",
      "         color='r', lw=2.5, alpha=0.7)\n",
      "    if yscale == 'log':\n",
      "        plt.yscale('log')\n",
      "        plt.ylim(1)\n",
      "    if zoom_origin:\n",
      "        dt = time[1] - time[0]\n",
      "        t0 = params['offset'] - 50*dt\n",
      "        plt.xlim(t0 - 50*dt, t0 + 50*dt)\n"
     ],
     "language": "python",
     "metadata": {},
     "outputs": [],
     "prompt_number": 15
    },
    {
     "cell_type": "markdown",
     "metadata": {},
     "source": [
      "# MLE approach"
     ]
    },
    {
     "cell_type": "markdown",
     "metadata": {},
     "source": [
      "Log-likelihood function:\n",
      "\n",
      "$$p(k) = \\frac{\\lambda^k}{\\Gamma(k+1)}\\exp(-\\lambda)$$\n",
      "\n",
      "$$\\log p(k) = k \\log \\lambda - \\log\\Gamma(k+1) -\\lambda$$\n",
      "\n",
      "In this context, for each TCSPC bin $i$, we have a Poisson rate $\\lambda_i$ function of the model parameters:\n",
      "\n",
      "$$\\lambda_i = \\lambda(t_i, \\tau, A, t_0, b)$$\n",
      "\n",
      "and a number of counts $y_i$ that are actual the TCSPC bin counts. "
     ]
    },
    {
     "cell_type": "code",
     "collapsed": false,
     "input": [
      "def loglike(params, x, ydata):\n",
      "    tau, baseline, offset, ampl = params\n",
      "    ymodel = model(x, tau, ampl, baseline, offset)\n",
      "    return (ymodel - ydata*np.log(ymodel)).sum()\n",
      "\n",
      "def from_params(params):\n",
      "    return [params[k].value for k in ('tau', 'baseline', 'offset', 'ampl')]\n",
      "\n",
      "def to_params(p, params):\n",
      "    for v, k in zip(p, ('tau', 'baseline', 'offset', 'ampl')):\n",
      "        params[k].value = v\n",
      "    return params"
     ],
     "language": "python",
     "metadata": {},
     "outputs": [],
     "prompt_number": 16
    },
    {
     "cell_type": "markdown",
     "metadata": {},
     "source": [
      "# Poisson weights"
     ]
    },
    {
     "cell_type": "markdown",
     "metadata": {},
     "source": [
      "**Weights** for proper scaling of the residuals according to the Poisson std.dev."
     ]
    },
    {
     "cell_type": "code",
     "collapsed": false,
     "input": [
      "weights = 1./np.sqrt(decay_hist)"
     ],
     "language": "python",
     "metadata": {},
     "outputs": [],
     "prompt_number": 17
    },
    {
     "cell_type": "code",
     "collapsed": false,
     "input": [
      "weights[decay_hist == 0] = 1./np.sqrt(baseline_true)\n",
      "(decay_hist == 0).any()"
     ],
     "language": "python",
     "metadata": {},
     "outputs": [
      {
       "metadata": {},
       "output_type": "pyout",
       "prompt_number": 18,
       "text": [
        "True"
       ]
      }
     ],
     "prompt_number": 18
    },
    {
     "cell_type": "markdown",
     "metadata": {},
     "source": [
      "# Lifetime fit"
     ]
    },
    {
     "cell_type": "code",
     "collapsed": false,
     "input": [
      "params = Parameters()\n",
      "params.add('tau', value=2.8)\n",
      "params.add('baseline', value=5)\n",
      "params.add('offset', value=2.814, vary=False)\n",
      "params.add('ampl', value=700)"
     ],
     "language": "python",
     "metadata": {},
     "outputs": [],
     "prompt_number": 19
    },
    {
     "cell_type": "markdown",
     "metadata": {},
     "source": [
      "Check the model with the intial parameters:"
     ]
    },
    {
     "cell_type": "code",
     "collapsed": false,
     "input": [
      "plot_fit(time_ns, decay_hist, params)"
     ],
     "language": "python",
     "metadata": {},
     "outputs": [
      {
       "metadata": {},
       "output_type": "display_data",
       "png": "[encoded data removed]",
       "text": [
        "<matplotlib.figure.Figure at 0x2176ac8>"
       ]
      }
     ],
     "prompt_number": 20
    },
    {
     "cell_type": "markdown",
     "metadata": {},
     "source": [
      "### Least squares"
     ]
    },
    {
     "cell_type": "markdown",
     "metadata": {},
     "source": [
      "Now we fit the parameters. To more easily converge to the global minimum we first perform a minimization with the Nelder-Mead method (a.k.a. downhill simplex). After that, we perform a second minimization with non-linear least-squares in order to obtain error estimates."
     ]
    },
    {
     "cell_type": "code",
     "collapsed": false,
     "input": [
      "fit_res = lmfit.minimize(residuals, params, args=(time_ns, decay_hist, weights), method='nelder')\n",
      "report_fit(fit_res.params)\n",
      "print 'Reduced Chi-square: %.3f' % fit_res.redchi"
     ],
     "language": "python",
     "metadata": {},
     "outputs": [
      {
       "output_type": "stream",
       "stream": "stdout",
       "text": [
        "[[Variables]]\n",
        "     ampl:         3691.373 initial =  700\n",
        "     baseline:     6.317692 initial =  5\n",
        "     offset:       2.814 (fixed)\n",
        "     tau:          1.988625 initial =  2.8\n",
        "[[Correlations]] (unreported correlations are <  0.100)\n",
        "Reduced Chi-square: 1.177\n"
       ]
      }
     ],
     "prompt_number": 21
    },
    {
     "cell_type": "code",
     "collapsed": false,
     "input": [
      "fit_res = lmfit.minimize(residuals, params, args=(time_ns, decay_hist, weights), method='leastsq')\n",
      "report_fit(fit_res.params)\n",
      "print 'Reduced Chi-square: %.3f' % fit_res.redchi"
     ],
     "language": "python",
     "metadata": {},
     "outputs": [
      {
       "output_type": "stream",
       "stream": "stdout",
       "text": [
        "[[Variables]]\n",
        "     ampl:         3691.374 +/- 8.272421 (0.22%) initial =  3691.373\n",
        "     baseline:     6.317692 +/- 0.08213102 (1.30%) initial =  6.317692\n",
        "     offset:       2.814 (fixed)\n",
        "     tau:          1.988625 +/- 0.003367729 (0.17%) initial =  1.988625\n",
        "[[Correlations]] (unreported correlations are <  0.100)\n",
        "    C(ampl, tau)                 = -0.722 \n",
        "    C(baseline, tau)             = -0.236 \n",
        "    C(ampl, baseline)            =  0.109 \n",
        "Reduced Chi-square: 1.177\n"
       ]
      }
     ],
     "prompt_number": 22
    },
    {
     "cell_type": "code",
     "collapsed": false,
     "input": [
      "plot_fit(time_ns, decay_hist, params, zoom_origin=False)"
     ],
     "language": "python",
     "metadata": {},
     "outputs": [
      {
       "metadata": {},
       "output_type": "display_data",
       "png": "[encoded data removed]",
       "text": [
        "<matplotlib.figure.Figure at 0x16ada1d0>"
       ]
      }
     ],
     "prompt_number": 23
    },
    {
     "cell_type": "markdown",
     "metadata": {},
     "source": [
      "## Error estimates"
     ]
    },
    {
     "cell_type": "markdown",
     "metadata": {},
     "source": [
      "Now we compute the confidence interval by samplig the reduced $\\chi^2$:"
     ]
    },
    {
     "cell_type": "code",
     "collapsed": false,
     "input": [
      "ci = lmfit.conf_interval(fit_res)"
     ],
     "language": "python",
     "metadata": {},
     "outputs": [],
     "prompt_number": 24
    },
    {
     "cell_type": "code",
     "collapsed": false,
     "input": [
      "lmfit.printfuncs.report_ci(ci)"
     ],
     "language": "python",
     "metadata": {},
     "outputs": [
      {
       "output_type": "stream",
       "stream": "stdout",
       "text": [
        "            99.70%    95.00%    67.40%     0.00%    67.40%    95.00%    99.70%\n",
        "     tau   1.97862   1.98195   1.98535   1.98863   1.99191   1.99532   1.99873\n",
        "baseline   6.07364   6.15659   6.23696   6.33703   6.39842   6.47878   6.56170\n",
        "    ampl3666.739613675.195673683.351253697.352253699.408873707.588043716.00500\n"
       ]
      }
     ],
     "prompt_number": 25
    },
    {
     "cell_type": "markdown",
     "metadata": {},
     "source": [
      "### Maximum likelihood\n",
      "\n",
      "To find the ML estimate we maximize the log-likelihood function:"
     ]
    },
    {
     "cell_type": "code",
     "collapsed": false,
     "input": [
      "res = minimize(loglike, x0=from_params(params), args=(time_ns, decay_hist),\n",
      "               method='Nelder-Mead')\n",
      "\n",
      "params = to_params(res.x, params)"
     ],
     "language": "python",
     "metadata": {},
     "outputs": [],
     "prompt_number": 26
    },
    {
     "cell_type": "code",
     "collapsed": false,
     "input": [
      "report_fit(params)"
     ],
     "language": "python",
     "metadata": {},
     "outputs": [
      {
       "output_type": "stream",
       "stream": "stdout",
       "text": [
        "[[Variables]]\n",
        "     ampl:         3650.818 +/- 8.272421 (0.23%) initial =  3691.373\n",
        "     baseline:     7.279041 +/- 0.08213102 (1.13%) initial =  6.317692\n",
        "     offset:       2.80642 (fixed)\n",
        "     tau:          2.005321 +/- 0.003367729 (0.17%) initial =  1.988625\n",
        "[[Correlations]] (unreported correlations are <  0.100)\n",
        "    C(ampl, tau)                 = -0.722 \n",
        "    C(baseline, tau)             = -0.236 \n",
        "    C(ampl, baseline)            =  0.109 \n"
       ]
      }
     ],
     "prompt_number": 27
    },
    {
     "cell_type": "code",
     "collapsed": false,
     "input": [
      "plot_fit(time_ns, decay_hist, params, zoom_origin=False)"
     ],
     "language": "python",
     "metadata": {},
     "outputs": [
      {
       "metadata": {},
       "output_type": "display_data",
       "png": "[encoded data removed]",
       "text": [
        "<matplotlib.figure.Figure at 0x14929c88>"
       ]
      }
     ],
     "prompt_number": 28
    },
    {
     "cell_type": "markdown",
     "metadata": {},
     "source": [
      "> Note that the ML method gives a better estimation of the true baseline value (`baseline_true`) but the fitted lifetime is not significantly different (in this case)."
     ]
    },
    {
     "cell_type": "code",
     "collapsed": false,
     "input": [],
     "language": "python",
     "metadata": {},
     "outputs": [],
     "prompt_number": 28
    },
    {
     "cell_type": "markdown",
     "metadata": {},
     "source": [
      "##Apply the style to the notebook"
     ]
    },
    {
     "cell_type": "code",
     "collapsed": false,
     "input": [
      "from IPython.core.display import HTML\n",
      "HTML(open(\"./styles/custom2.css\", \"r\").read())"
     ],
     "language": "python",
     "metadata": {},
     "outputs": [
      {
       "html": [
        "<style>\n",
        "    @font-face {\n",
        "        font-family: \"Computer Modern\";\n",
        "        src: url('http://mirrors.ctan.org/fonts/cm-unicode/fonts/otf/cmunss.otf');\n",
        "    }\n",
        "    div.cell{\n",
        "        width:900px;\n",
        "        margin-left:8% !important;\n",
        "        margin-right:auto;\n",
        "    }\n",
        "    div.text_cell_render{\n",
        "        font-family: Computer Modern, \"Helvetica Neue\", Arial, Helvetica, Geneva, sans-serif;\n",
        "        line-height: 145%;\n",
        "        font-size: 110%;\n",
        "        width:800px;\n",
        "        margin-left:auto;\n",
        "        margin-right:auto;\n",
        "    }\n",
        "    blockquote  p {\n",
        "\t/*margin: 1em 2em;*/\n",
        "\tline-height: 140%;\n",
        "    }\n",
        "\n",
        "    .rendered_html code {\n",
        "\tbackground-color: #f7f7f7;\n",
        "\tborder: 1px solid #dddddd;\n",
        "\tcolor: black;\n",
        "\tline-height: 1.1em;\n",
        "    \tpadding: 0.15em;\n",
        "\tfont-size: 85%;\n",
        "    }\n",
        "\n",
        "    .CodeMirror{\n",
        "            font-family: \"Source Code Pro\", source-code-pro,Consolas, monospace;\n",
        "    }\n",
        "    /*.prompt{\n",
        "        display: None;\n",
        "    }*/\n",
        "    \n",
        "</style>\n"
       ],
       "metadata": {},
       "output_type": "pyout",
       "prompt_number": 29,
       "text": [
        "<IPython.core.display.HTML at 0x16bc4320>"
       ]
      }
     ],
     "prompt_number": 29
    },
    {
     "cell_type": "code",
     "collapsed": false,
     "input": [],
     "language": "python",
     "metadata": {},
     "outputs": [],
     "prompt_number": 29
    }
   ],
   "metadata": {}
  }
 ]
}