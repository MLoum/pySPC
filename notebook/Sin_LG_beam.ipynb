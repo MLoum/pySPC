{
 "cells": [
  {
   "cell_type": "code",
   "execution_count": null,
   "metadata": {
    "collapsed": true
   },
   "outputs": [],
   "source": [
    "# Simumation of sinusoidal Laguerre Gauss Beam\n",
    "\n",
    "From  http://laser.physics.sunysb.edu/~mxs/summer-2016/final-summer-talk.pdf :\n",
    "\n",
    "- This is where the distinction of a “helical” LG mode becomes important:\n",
    "\t- The superposition of two oppositely-handed helical LG modes results in a sinusoidal LG mode.\n",
    "\t\t- Cancellation of orbital angular momentum (no more helical wavefront!)\n",
    "\t- Sinusoidal variation in azimuthal intensity.\n",
    "\n",
    "En partant d'un champ elecgtrique :\n",
    "$$\n",
    "E(x, y,z) = u(x, y,z) exp(−ikz).\n",
    "$$\n",
    "ou plutot :\n",
    "$$\n",
    "E(r, \\phi, z) = u(r, \\phi, z) exp(−ikz).\n",
    "$$\n",
    "on a :\n",
    "$$\n",
    "u^{cosine}_{p,l} (r, \\phi, z) = \\dfrac{2}{w(z)} \\sqrt{\\dfrac{2p!}{\\pi(|l| + p) !}} e^{i(2p + |l| + 1) \\psi(z)} \\left(\\dfrac{\\sqrt{2}r}{w(z)} \\right)^{|l|} L_{p}(|l|) \\left( \\dfrac{2 r^2}{w(z)^2} \\right) e^{-i k \\frac{r^2}{2 q(z)}} \\cos(l \\phi)\n",
    "$$\n",
    "avec :\n",
    "- $w(z)$ is known as the Gaussian spot size parameter\n",
    "- $\\psi (z)$ is the Gouy phase\n",
    "- $p$, $l$ and $L^l_p$, which are the radial mode index, the azimuthal mode index, and the associated Laguerre polynomials respectively\n",
    "- $q(z)$ ??\n",
    "\n",
    "\n",
    "The LG modes are solutions to the paraxial wave equation in cylindrical polar coordinates,\n",
    "as opposed to in Cartesian coordinates in the case of HG modes. Unlike the\n",
    "HG modes therefore, the complex amplitude function for LG modes is not separable\n",
    "in x and y, and so LG modes are not eigenmodes of astigmatic optical resonators. LG\n",
    "modes are commonly expressed in two different forms, which I will refer to as the\n",
    "sinusoidal mode set and the helical mode set. While both sets of LG modes have the\n",
    "property of axisymmetry, only the helical set all have circularly symmetric intensity\n",
    "profiles. This property can be useful for reducing the effects of Brownian thermal\n",
    "noise, as is described in further detail later on in Sect. 2.6. Helical LG beams also\n",
    "have the unusual property of carrying orbital angular momentum, which has made\n",
    "them the subject of study by the scientific community in the last two decades or so\n",
    "[1]. This trait has led to their use as ‘optical spanners’ and ‘optical waveguides’ [20]\n",
    "in the bio-photonics and cold atoms fields.\n",
    "\n",
    "$$\n",
    "u^{hel}_{p,l} (r, \\phi, z) = \\dfrac{1}{w(z)} \\sqrt{\\dfrac{2p!}{\\pi(|l| + p) !}} e^{i(2p + |l| + 1) \\psi(z)} \\left(\\dfrac{\\sqrt{2}r}{w(z)} \\right)^{|l|} L_{p}(|l|) \\left( \\dfrac{2 r^2}{w(z)^2} \\right) e^{-i k \\frac{r^2}{2 q(z)} +il\\phi}\n",
    "$$\n"
   ]
  },
  {
   "cell_type": "code",
   "execution_count": null,
   "metadata": {},
   "outputs": [],
   "source": []
  },
  {
   "cell_type": "code",
   "execution_count": null,
   "metadata": {},
   "outputs": [],
   "source": []
  }
 ],
 "metadata": {
  "kernelspec": {
   "display_name": "Python 2",
   "language": "python",
   "name": "python2"
  },
  "language_info": {
   "codemirror_mode": {
    "name": "ipython",
    "version": 2
   },
   "file_extension": ".py",
   "mimetype": "text/x-python",
   "name": "python",
   "nbconvert_exporter": "python",
   "pygments_lexer": "ipython2",
   "version": "2.7.6"
  }
 },
 "nbformat": 4,
 "nbformat_minor": 0
}
