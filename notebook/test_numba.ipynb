{
 "cells": [
  {
   "cell_type": "markdown",
   "metadata": {
    "collapsed": true
   },
   "source": [
    "# Test numba"
   ]
  },
  {
   "cell_type": "code",
   "execution_count": 1,
   "metadata": {},
   "outputs": [
    {
     "name": "stdout",
     "output_type": "stream",
     "text": [
      "0.36.2\n"
     ]
    }
   ],
   "source": [
    "import numba\n",
    "print(numba.__version__)"
   ]
  },
  {
   "cell_type": "code",
   "execution_count": 2,
   "metadata": {},
   "outputs": [
    {
     "name": "stdout",
     "output_type": "stream",
     "text": [
      "\n    This decorator is used to compile a Python function into native code.\n\n    Args\n    -----\n    signature:\n        The (optional) signature or list of signatures to be compiled.\n        If not passed, required signatures will be compiled when the\n        decorated function is called, depending on the argument values.\n        As a convenience, you can directly pass the function to be compiled\n        instead.\n\n    locals: dict\n        Mapping of local variable names to Numba types. Used to override the\n        types deduced by Numba's type inference engine.\n\n    target: str\n        Specifies the target platform to compile for. Valid targets are cpu,\n        gpu, npyufunc, and cuda. Defaults to cpu.\n\n    options:\n        For a cpu target, valid options are:\n            nopython: bool\n                Set to True to disable the use of PyObjects and Python API\n                calls. The default behavior is to allow the use of PyObjects\n                and Python API. Default value is False.\n\n            forceobj: bool\n                Set to True to force the use of PyObjects for every value.\n                Default value is False.\n\n            looplift: bool\n                Set to True to enable jitting loops in nopython mode while\n                leaving surrounding code in object mode. This allows functions\n                to allocate NumPy arrays and use Python objects, while the\n                tight loops in the function can still be compiled in nopython\n                mode. Any arrays that the tight loop uses should be created\n                before the loop is entered. Default value is True.\n\n            error_model: str\n                The error-model affects divide-by-zero behavior.\n                Valid values are 'python' and 'numpy'. The 'python' model\n                raises exception.  The 'numpy' model sets the result to\n                *+/-inf* or *nan*.\n\n    Returns\n    --------\n    A callable usable as a compiled function.  Actual compiling will be\n    done lazily if no explicit signatures are passed.\n\n    Examples\n    --------\n    The function can be used in the following ways:\n\n    1) jit(signatures, target='cpu', **targetoptions) -> jit(function)\n\n        Equivalent to:\n\n            d = dispatcher(function, targetoptions)\n            for signature in signatures:\n                d.compile(signature)\n\n        Create a dispatcher object for a python function.  Then, compile\n        the function with the given signature(s).\n\n        Example:\n\n            @jit(\"int32(int32, int32)\")\n            def foo(x, y):\n                return x + y\n\n            @jit([\"int32(int32, int32)\", \"float32(float32, float32)\"])\n            def bar(x, y):\n                return x + y\n\n    2) jit(function, target='cpu', **targetoptions) -> dispatcher\n\n        Create a dispatcher function object that specializes at call site.\n\n        Examples:\n\n            @jit\n            def foo(x, y):\n                return x + y\n\n            @jit(target='cpu', nopython=True)\n            def bar(x, y):\n                return x + y\n\n    \n"
     ]
    }
   ],
   "source": [
    "print(numba.jit.__doc__)"
   ]
  },
  {
   "cell_type": "code",
   "execution_count": 3,
   "metadata": {},
   "outputs": [],
   "source": [
    "@numba.jit(\"void(f4[:])\")\n",
    "def bubblesort_jit(X):\n",
    "    N = len(X)\n",
    "    for end in range(N, 1, -1):\n",
    "        for i in range(end - 1):\n",
    "            cur = X[i]\n",
    "            if cur > X[i + 1]:\n",
    "                tmp = X[i]\n",
    "                X[i] = X[i + 1]\n",
    "                X[i + 1] = tmp"
   ]
  },
  {
   "cell_type": "code",
   "execution_count": null,
   "metadata": {},
   "outputs": [],
   "source": []
  }
 ],
 "metadata": {
  "kernelspec": {
   "display_name": "Python 2",
   "language": "python",
   "name": "python2"
  },
  "language_info": {
   "codemirror_mode": {
    "name": "ipython",
    "version": 2
   },
   "file_extension": ".py",
   "mimetype": "text/x-python",
   "name": "python",
   "nbconvert_exporter": "python",
   "pygments_lexer": "ipython2",
   "version": "2.7.6"
  }
 },
 "nbformat": 4,
 "nbformat_minor": 0
}
